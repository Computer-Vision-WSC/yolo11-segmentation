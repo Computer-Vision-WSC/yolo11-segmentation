{
 "cells": [
  {
   "cell_type": "markdown",
   "id": "8d9f778a",
   "metadata": {},
   "source": [
    "# 11.- Azure ML Model Download"
   ]
  },
  {
   "cell_type": "code",
   "execution_count": 1,
   "id": "367eb877",
   "metadata": {},
   "outputs": [],
   "source": [
    "import yaml\n",
    "\n",
    "from azure.identity import DefaultAzureCredential\n",
    "from azure.ai.ml import MLClient"
   ]
  },
  {
   "cell_type": "code",
   "execution_count": 2,
   "id": "6cc09615",
   "metadata": {},
   "outputs": [],
   "source": [
    "# Load configuration from the YAML file\n",
    "with open(\"../config.yaml\", \"r\") as file:\n",
    "    config = yaml.safe_load(file)"
   ]
  },
  {
   "cell_type": "code",
   "execution_count": 3,
   "id": "46455295",
   "metadata": {},
   "outputs": [],
   "source": [
    "subscription_id = config[\"azure\"][\"subscription_id\"]\n",
    "resource_group_name = config[\"azure\"][\"resource_group_name\"]\n",
    "workspace_name = config[\"azure\"][\"workspace_name\"]\n",
    "\n",
    "job_name = config[\"train\"][\"job_name\"]"
   ]
  },
  {
   "cell_type": "code",
   "execution_count": 4,
   "id": "3e14954b",
   "metadata": {},
   "outputs": [],
   "source": [
    "ml_client = MLClient(\n",
    "    DefaultAzureCredential(),\n",
    "    subscription_id,\n",
    "    resource_group_name,\n",
    "    workspace_name\n",
    ")"
   ]
  },
  {
   "cell_type": "code",
   "execution_count": 5,
   "id": "5a62c892",
   "metadata": {},
   "outputs": [],
   "source": [
    "local_download_path = \"../train/azure_ml_output\""
   ]
  },
  {
   "cell_type": "code",
   "execution_count": null,
   "id": "9a99b2d5",
   "metadata": {},
   "outputs": [],
   "source": [
    "ml_client.jobs.download(\n",
    "    name=job_name,\n",
    "    output_name=\"output_dir\",\n",
    "    download_path=local_download_path\n",
    ")"
   ]
  }
 ],
 "metadata": {
  "kernelspec": {
   "display_name": "yolo11-segmentation",
   "language": "python",
   "name": "python3"
  },
  "language_info": {
   "codemirror_mode": {
    "name": "ipython",
    "version": 3
   },
   "file_extension": ".py",
   "mimetype": "text/x-python",
   "name": "python",
   "nbconvert_exporter": "python",
   "pygments_lexer": "ipython3",
   "version": "3.10.16"
  }
 },
 "nbformat": 4,
 "nbformat_minor": 5
}
