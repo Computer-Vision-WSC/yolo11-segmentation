{
 "cells": [
  {
   "cell_type": "markdown",
   "metadata": {},
   "source": [
    "# 4.- Test Environment Train Local"
   ]
  },
  {
   "cell_type": "code",
   "execution_count": 46,
   "metadata": {},
   "outputs": [],
   "source": [
    "import os\n",
    "import docker"
   ]
  },
  {
   "cell_type": "code",
   "execution_count": 47,
   "metadata": {},
   "outputs": [],
   "source": [
    "# Create a Docker client\n",
    "client = docker.from_env()"
   ]
  },
  {
   "cell_type": "markdown",
   "metadata": {},
   "source": [
    "## Image"
   ]
  },
  {
   "cell_type": "code",
   "execution_count": 48,
   "metadata": {},
   "outputs": [],
   "source": [
    "# Docker image name\n",
    "docker_image = 'yolo11-docker:latest'"
   ]
  },
  {
   "cell_type": "markdown",
   "metadata": {},
   "source": [
    "## Volumen"
   ]
  },
  {
   "cell_type": "code",
   "execution_count": null,
   "metadata": {},
   "outputs": [],
   "source": [
    "data_local_train_path = os.path.abspath('../data/raw')\n",
    "local_train_path = os.path.abspath('../train')\n",
    "\n",
    "volumes = {\n",
    "    data_local_train_path : {'bind' : '/data/raw', 'mode' : 'rw'},\n",
    "    local_train_path  : {'bind' : '/train', 'mode' : 'rw'},\n",
    "}"
   ]
  },
  {
   "cell_type": "markdown",
   "metadata": {},
   "source": [
    "## Command"
   ]
  },
  {
   "cell_type": "code",
   "execution_count": null,
   "metadata": {},
   "outputs": [],
   "source": [
    "command = ['yolo', 'segment', 'train',\n",
    "           'data= \"/data/raw/data.yaml\"',\n",
    "           'model= \"/train/pretrained_models/yolo11x-seg.pt\"',\n",
    "           'epochs=1',\n",
    "           'batch=2',\n",
    "           'project=\"train\"',\n",
    "           'name=\"output\"',\n",
    "           'exist_ok=True',\n",
    "           'device=\"cpu\"'\n",
    "           ]"
   ]
  },
  {
   "cell_type": "markdown",
   "metadata": {},
   "source": [
    "## Container Execution"
   ]
  },
  {
   "cell_type": "code",
   "execution_count": null,
   "metadata": {},
   "outputs": [],
   "source": [
    "# Run the container and capture the output\n",
    "try:\n",
    "    container = client.containers.run(\n",
    "        docker_image,         # Docker image name\n",
    "        command,              # Command to execute in container\n",
    "        volumes=volumes,      # Volumes to mount\n",
    "        detach=True,          # Run in background (detach mode)\n",
    "        stdout=True,          # Enable stdout capture\n",
    "        stderr=True,          # Enable stderr capture\n",
    "        tty=False             # Disable TTY, since we don’t need interactivity\n",
    "    )\n",
    "\n",
    "    print(\"Container is running...\")\n",
    "\n",
    "    # Collect and print logs in real-time\n",
    "    for log in container.logs(stream=True):\n",
    "        print(log.decode('utf-8'), end='')\n",
    "\n",
    "    # Wait for the container to finish\n",
    "    container.wait()\n",
    "\n",
    "    print(\"Command executed successfully\")\n",
    "\n",
    "except docker.errors.DockerException as e:\n",
    "    print(f\"Error executing Docker command: {e}\")"
   ]
  }
 ],
 "metadata": {
  "kernelspec": {
   "display_name": "yolo11-segmentation",
   "language": "python",
   "name": "python3"
  },
  "language_info": {
   "codemirror_mode": {
    "name": "ipython",
    "version": 3
   },
   "file_extension": ".py",
   "mimetype": "text/x-python",
   "name": "python",
   "nbconvert_exporter": "python",
   "pygments_lexer": "ipython3",
   "version": "3.10.16"
  }
 },
 "nbformat": 4,
 "nbformat_minor": 2
}
