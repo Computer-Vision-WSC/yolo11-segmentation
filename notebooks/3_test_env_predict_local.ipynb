{
 "cells": [
  {
   "cell_type": "markdown",
   "metadata": {},
   "source": [
    "# 3.- Test Environment Predict Local"
   ]
  },
  {
   "cell_type": "code",
   "execution_count": 21,
   "metadata": {},
   "outputs": [],
   "source": [
    "import os\n",
    "import docker"
   ]
  },
  {
   "cell_type": "code",
   "execution_count": 22,
   "metadata": {},
   "outputs": [],
   "source": [
    "# Create a Docker client\n",
    "client = docker.from_env()"
   ]
  },
  {
   "cell_type": "markdown",
   "metadata": {},
   "source": [
    "## Image"
   ]
  },
  {
   "cell_type": "code",
   "execution_count": 23,
   "metadata": {},
   "outputs": [],
   "source": [
    "# Docker image name\n",
    "docker_image = 'yolo11-docker:latest'"
   ]
  },
  {
   "cell_type": "markdown",
   "metadata": {},
   "source": [
    "## Volumen"
   ]
  },
  {
   "cell_type": "code",
   "execution_count": 24,
   "metadata": {},
   "outputs": [],
   "source": [
    "data_local_train_path = os.path.abspath('../data/local_test/train')\n",
    "data_local_predict_path = os.path.abspath('../data/local_test/predict')\n",
    "train_local_model_path = os.path.abspath('../train/pretrained_models')\n",
    "\n",
    "volumes = {\n",
    "    data_local_train_path : {'bind' : '/data/train', 'mode' : 'rw'},\n",
    "    data_local_predict_path : {'bind' : '/data/predict', 'mode' : 'rw'},\n",
    "    train_local_model_path  : {'bind' : '/train', 'mode' : 'rw'}\n",
    "}"
   ]
  },
  {
   "cell_type": "markdown",
   "metadata": {},
   "source": [
    "## Command"
   ]
  },
  {
   "cell_type": "code",
   "execution_count": 25,
   "metadata": {},
   "outputs": [],
   "source": [
    "command = ['yolo', 'predict',\n",
    "           'model= \"/train/yolo11x-seg.pt',\n",
    "           'source=\"/data/train\"',\n",
    "           'project=\"data\"',\n",
    "           'name=\"predict\"',\n",
    "           'exist_ok=True']"
   ]
  },
  {
   "cell_type": "markdown",
   "metadata": {},
   "source": [
    "## Container Execution"
   ]
  },
  {
   "cell_type": "code",
   "execution_count": 26,
   "metadata": {},
   "outputs": [
    {
     "name": "stdout",
     "output_type": "stream",
     "text": [
      "Container is running...\n",
      "Creating new Ultralytics Settings v0.0.6 file ✅ \n",
      "View Ultralytics Settings with 'yolo settings' or at '/root/.config/Ultralytics/settings.json'\n",
      "Update Settings with 'yolo settings key=value', i.e. 'yolo settings runs_dir=path/to/dir'. For help see https://docs.ultralytics.com/quickstart/#ultralytics-settings.\n",
      "Downloading https://github.com/ultralytics/assets/releases/download/v8.3.0/yolo11x-seg.pt to '\"/train/yolo11x-seg.pt'...\n",
      "100%|██████████| 119M/119M [00:04<00:00, 29.4MB/s] \n",
      "Ultralytics 8.3.99 🚀 Python-3.12.9 torch-2.6.0+cu124 CPU (11th Gen Intel Core(TM) i7-1185G7 3.00GHz)\n",
      "YOLO11x-seg summary (fused): 203 layers, 62,094,528 parameters, 0 gradients, 319.0 GFLOPs\n",
      "\n",
      "image 1/3 /data/train/airplane_001.jpg: 640x640 3 airplanes, 1221.3ms\n",
      "image 2/3 /data/train/bus.jpg: 640x480 4 persons, 1 bus, 1964.2ms\n",
      "image 3/3 /data/train/panel_2.JPG: 512x640 (no detections), 1822.0ms\n",
      "Speed: 1.6ms preprocess, 1669.1ms inference, 3.3ms postprocess per image at shape (1, 3, 512, 640)\n",
      "Results saved to \u001b[1mdata/predict\u001b[0m\n",
      "💡 Learn more at https://docs.ultralytics.com/modes/predict\n",
      "Command executed successfully\n"
     ]
    }
   ],
   "source": [
    "# Run the container and capture the output\n",
    "try:\n",
    "    container = client.containers.run(\n",
    "        docker_image,         # Docker image name\n",
    "        command,              # Command to execute in container\n",
    "        volumes=volumes,      # Volumes to mount\n",
    "        detach=True,          # Run in background (detach mode)\n",
    "        stdout=True,          # Enable stdout capture\n",
    "        stderr=True,          # Enable stderr capture\n",
    "        tty=False             # Disable TTY, since we don’t need interactivity\n",
    "    )\n",
    "\n",
    "    print(\"Container is running...\")\n",
    "\n",
    "    # Collect and print logs in real-time\n",
    "    for log in container.logs(stream=True):\n",
    "        print(log.decode('utf-8'), end='')\n",
    "\n",
    "    # Wait for the container to finish\n",
    "    container.wait()\n",
    "\n",
    "    print(\"Command executed successfully\")\n",
    "\n",
    "except docker.errors.DockerException as e:\n",
    "    print(f\"Error executing Docker command: {e}\")"
   ]
  },
  {
   "cell_type": "code",
   "execution_count": null,
   "metadata": {},
   "outputs": [],
   "source": []
  }
 ],
 "metadata": {
  "kernelspec": {
   "display_name": "yolo11-segmentation",
   "language": "python",
   "name": "python3"
  },
  "language_info": {
   "codemirror_mode": {
    "name": "ipython",
    "version": 3
   },
   "file_extension": ".py",
   "mimetype": "text/x-python",
   "name": "python",
   "nbconvert_exporter": "python",
   "pygments_lexer": "ipython3",
   "version": "3.10.16"
  }
 },
 "nbformat": 4,
 "nbformat_minor": 2
}
