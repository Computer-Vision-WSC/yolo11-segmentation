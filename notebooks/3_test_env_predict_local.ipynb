{
 "cells": [
  {
   "cell_type": "markdown",
   "metadata": {},
   "source": [
    "# 3.- Test environment: local prediction inside Docker  \n",
    "\n",
    "## Quick-test YOLO 11 Segmentation – Docker edition  \n",
    "\n",
    "This notebook shows how to **run inference with the official YOLO 11 segmentation weights *without* fine-tuning**.  \n",
    "The workflow is intentionally lightweight: we spin up a Docker container, mount local folders, and call `yolo predict`.\n",
    "\n",
    "> **Prerequisites**  \n",
    "> | OS | Requirement | Notes |  \n",
    "> |----|-------------|-------|  \n",
    "> | **Windows 10/11** | Docker Desktop | Make sure Docker Desktop is *running* before you execute any cell. |  \n",
    "> | **Linux (Ubuntu, Fedora, …)** | Docker Engine v20.10 + | You need a user in the `docker` group or run `sudo docker`. |  \n",
    "> | **macOS (Apple Silicon & Intel)** | Docker Desktop or Colima | If using Apple Silicon, the YOLO image must have an `arm64` tag (the one we build does). |  \n",
    "\n",
    "All other dependencies (PyYAML, Ultralytics, etc.) live **inside** the Docker image, so your host Python environment stays clean.\n",
    "\n",
    "We will:\n",
    "\n",
    "1. Instantiate a Docker client with the Python SDK.  \n",
    "2. Mount three host directories into the container:  \n",
    "   * `/data/train` – images you want to test on.  \n",
    "   * `/data/predict` – output masks & visualisations will be written here.  \n",
    "   * `/train`     – holds the pre-trained weight file (`yolo11x-seg.pt`).  \n",
    "3. Execute the YOLO CLI command `yolo predict …` inside the container.  \n",
    "4. Stream container logs live so you can watch progress and mAP metrics in real time.\n",
    "\n"
   ]
  },
  {
   "cell_type": "code",
   "execution_count": null,
   "metadata": {},
   "outputs": [],
   "source": [
    "import os\n",
    "import docker"
   ]
  },
  {
   "cell_type": "markdown",
   "metadata": {},
   "source": [
    "### 1) Initialise the Docker client"
   ]
  },
  {
   "cell_type": "code",
   "execution_count": 22,
   "metadata": {},
   "outputs": [],
   "source": [
    "# Create a Docker client\n",
    "client = docker.from_env()"
   ]
  },
  {
   "cell_type": "markdown",
   "metadata": {},
   "source": [
    "### 2) Image & volumes\n"
   ]
  },
  {
   "cell_type": "code",
   "execution_count": 23,
   "metadata": {},
   "outputs": [],
   "source": [
    "# Docker image name\n",
    "docker_image = 'yolo11-docker:latest'"
   ]
  },
  {
   "cell_type": "code",
   "execution_count": null,
   "metadata": {},
   "outputs": [],
   "source": [
    "data_local_train_path = os.path.abspath('../data/local_test/train')\n",
    "data_local_predict_path = os.path.abspath('../data/local_test/predict')\n",
    "train_local_model_path = os.path.abspath('../train/pretrained_models')\n",
    "\n",
    "# Map host paths → container paths\n",
    "\n",
    "volumes = {\n",
    "    data_local_train_path : {'bind' : '/data/train', 'mode' : 'rw'},\n",
    "    data_local_predict_path : {'bind' : '/data/predict', 'mode' : 'rw'},\n",
    "    train_local_model_path  : {'bind' : '/train', 'mode' : 'rw'}\n",
    "}"
   ]
  },
  {
   "cell_type": "markdown",
   "metadata": {},
   "source": [
    "### 3) YOLO command (note the CLI uses key=value syntax)\n"
   ]
  },
  {
   "cell_type": "code",
   "execution_count": null,
   "metadata": {},
   "outputs": [],
   "source": [
    "command = ['yolo', 'predict',\n",
    "           'model= \"/train/yolo11x-seg.pt\"',\n",
    "           'source=\"/data/train\"',\n",
    "           'project=\"data\"',\n",
    "           'name=\"predict\"',\n",
    "           'exist_ok=True']"
   ]
  },
  {
   "cell_type": "markdown",
   "metadata": {},
   "source": [
    "### 4) Run the container and stream logs"
   ]
  },
  {
   "cell_type": "code",
   "execution_count": 26,
   "metadata": {},
   "outputs": [
    {
     "name": "stdout",
     "output_type": "stream",
     "text": [
      "Container is running...\n",
      "Creating new Ultralytics Settings v0.0.6 file ✅ \n",
      "View Ultralytics Settings with 'yolo settings' or at '/root/.config/Ultralytics/settings.json'\n",
      "Update Settings with 'yolo settings key=value', i.e. 'yolo settings runs_dir=path/to/dir'. For help see https://docs.ultralytics.com/quickstart/#ultralytics-settings.\n",
      "Downloading https://github.com/ultralytics/assets/releases/download/v8.3.0/yolo11x-seg.pt to '\"/train/yolo11x-seg.pt'...\n",
      "100%|██████████| 119M/119M [00:04<00:00, 29.4MB/s] \n",
      "Ultralytics 8.3.99 🚀 Python-3.12.9 torch-2.6.0+cu124 CPU (11th Gen Intel Core(TM) i7-1185G7 3.00GHz)\n",
      "YOLO11x-seg summary (fused): 203 layers, 62,094,528 parameters, 0 gradients, 319.0 GFLOPs\n",
      "\n",
      "image 1/3 /data/train/airplane_001.jpg: 640x640 3 airplanes, 1221.3ms\n",
      "image 2/3 /data/train/bus.jpg: 640x480 4 persons, 1 bus, 1964.2ms\n",
      "image 3/3 /data/train/panel_2.JPG: 512x640 (no detections), 1822.0ms\n",
      "Speed: 1.6ms preprocess, 1669.1ms inference, 3.3ms postprocess per image at shape (1, 3, 512, 640)\n",
      "Results saved to \u001b[1mdata/predict\u001b[0m\n",
      "💡 Learn more at https://docs.ultralytics.com/modes/predict\n",
      "Command executed successfully\n"
     ]
    }
   ],
   "source": [
    "# Run the container and capture the output\n",
    "try:\n",
    "    container = client.containers.run(\n",
    "        docker_image,         # Docker image name\n",
    "        command,              # Command to execute in container\n",
    "        volumes=volumes,      # Volumes to mount\n",
    "        detach=True,          # Run in background (detach mode)\n",
    "        stdout=True,          # Enable stdout capture\n",
    "        stderr=True,          # Enable stderr capture\n",
    "        tty=False             # Disable TTY, since we don’t need interactivity\n",
    "    )\n",
    "\n",
    "    print(\"Container is running...\")\n",
    "\n",
    "    # Collect and print logs in real-time\n",
    "    for log in container.logs(stream=True):\n",
    "        print(log.decode('utf-8'), end='')\n",
    "\n",
    "    # Wait for the container to finish\n",
    "    container.wait()\n",
    "\n",
    "    print(\"Command executed successfully\")\n",
    "\n",
    "except docker.errors.DockerException as e:\n",
    "    print(f\"Error executing Docker command: {e}\")"
   ]
  },
  {
   "cell_type": "markdown",
   "metadata": {},
   "source": [
    "### What happens next?\n",
    "\n",
    "* Result masks (`.png`) and annotated images (`labelled.jpg`) are written to `../data/local_test/predict/<run-ID>/`.  \n",
    "* The CLI also produces a `results.csv` and a `confusion_matrix.png` inside the same folder.  \n",
    "* You can tweak confidence, IoU, or device selection by adding more `key=value` pairs to the `command` list  \n",
    "  (e.g., `conf=0.4`, `device=0`, `save_txt=True`).\n",
    "\n",
    "If you encounter a `platform error` on Apple Silicon, rebuild the Docker image with the line  \n",
    "`FROM --platform=linux/arm64 python:3.11-slim` at the top of its Dockerfile.\n"
   ]
  },
  {
   "cell_type": "markdown",
   "metadata": {},
   "source": []
  }
 ],
 "metadata": {
  "kernelspec": {
   "display_name": "yolo11-segmentation",
   "language": "python",
   "name": "python3"
  },
  "language_info": {
   "codemirror_mode": {
    "name": "ipython",
    "version": 3
   },
   "file_extension": ".py",
   "mimetype": "text/x-python",
   "name": "python",
   "nbconvert_exporter": "python",
   "pygments_lexer": "ipython3",
   "version": "3.10.16"
  }
 },
 "nbformat": 4,
 "nbformat_minor": 2
}
