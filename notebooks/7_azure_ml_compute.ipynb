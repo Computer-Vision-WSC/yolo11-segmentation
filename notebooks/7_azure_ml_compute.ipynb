{
 "cells": [
  {
   "cell_type": "markdown",
   "id": "62c53814",
   "metadata": {},
   "source": [
    "# 7.- Azure ML Compute"
   ]
  },
  {
   "cell_type": "code",
   "execution_count": null,
   "id": "ffabbfbe",
   "metadata": {},
   "outputs": [],
   "source": [
    "import yaml\n",
    "\n",
    "from azure.identity import DefaultAzureCredential\n",
    "\n",
    "from azure.ai.ml import MLClient\n",
    "\n",
    "from azure.ai.ml.entities import AmlCompute"
   ]
  },
  {
   "cell_type": "markdown",
   "id": "956ddb17",
   "metadata": {},
   "source": [
    "## Define Variables"
   ]
  },
  {
   "cell_type": "code",
   "execution_count": null,
   "id": "153db1aa",
   "metadata": {},
   "outputs": [],
   "source": [
    "# Load configuration from the YAML file\n",
    "with open(\"../config.yaml\", \"r\") as file:\n",
    "    config = yaml.safe_load(file)"
   ]
  },
  {
   "cell_type": "code",
   "execution_count": null,
   "id": "089d276d",
   "metadata": {},
   "outputs": [],
   "source": [
    "subscription_id = config[\"azure\"][\"subscription_id\"]\n",
    "resource_group_name = config[\"azure\"][\"resource_group_name\"]\n",
    "workspace_name = config[\"azure\"][\"workspace_name\"]\n",
    "\n",
    "training_gpu_cluster = config[\"azure\"][\"training_gpu_cluster\"]\n",
    "compute_name = config[\"azure\"][\"compute_name\"]"
   ]
  },
  {
   "cell_type": "markdown",
   "id": "32684ec2",
   "metadata": {},
   "source": [
    "## Azure Authentication"
   ]
  },
  {
   "cell_type": "code",
   "execution_count": null,
   "id": "385dcef9",
   "metadata": {},
   "outputs": [],
   "source": [
    "# Initialize DefaultAzureCredential\n",
    "credential = DefaultAzureCredential()"
   ]
  },
  {
   "cell_type": "code",
   "execution_count": null,
   "id": "aae8ad7b",
   "metadata": {},
   "outputs": [
    {
     "name": "stderr",
     "output_type": "stream",
     "text": [
      "Overriding of current TracerProvider is not allowed\n",
      "Overriding of current LoggerProvider is not allowed\n",
      "Overriding of current MeterProvider is not allowed\n",
      "Attempting to instrument while already instrumented\n",
      "Attempting to instrument while already instrumented\n",
      "Attempting to instrument while already instrumented\n"
     ]
    }
   ],
   "source": [
    "# Update Azure ML Client\n",
    "ml_client = MLClient(credential, subscription_id, resource_group_name, workspace_name)"
   ]
  },
  {
   "cell_type": "markdown",
   "id": "64b1eb73",
   "metadata": {},
   "source": [
    "## Create a Compute Resource"
   ]
  },
  {
   "cell_type": "code",
   "execution_count": null,
   "id": "24c635ec",
   "metadata": {},
   "outputs": [],
   "source": [
    "def create_compute_resource(ml_client, cluster_name, size=\"STANDARD_D2_V3\", \n",
    "                            min_instances=0, max_instances=4, \n",
    "                            idle_time_before_scale_down=180, tier=\"Dedicated\"):\n",
    "    \"\"\"\n",
    "    Creates or reuses an AMLCompute resource in Azure ML.\n",
    "\n",
    "    Parameters:\n",
    "        ml_client (MLClient): The Azure ML client.\n",
    "        cluster_name (str): The name of the compute cluster.\n",
    "        size (str): The VM size (default is \"STANDARD_D2_V3\").\n",
    "        min_instances (int): The minimum number of instances (default is 0).\n",
    "        max_instances (int): The maximum number of instances (default is 4).\n",
    "        idle_time_before_scale_down (int): Idle time in seconds before scaling down (default is 180).\n",
    "        tier (str): The pricing tier, either \"Dedicated\" or \"LowPriority\" (default is \"Dedicated\").\n",
    "\n",
    "    Returns:\n",
    "        An instance of AmlCompute representing the compute resource.\n",
    "    \"\"\"\n",
    "    try:\n",
    "        # Check if the compute cluster already exists\n",
    "        compute_resource = ml_client.compute.get(cluster_name)\n",
    "        print(f\"A cluster named '{cluster_name}' already exists; reusing it.\")\n",
    "    except Exception:\n",
    "        print(\"Creating a new GPU compute resource...\")\n",
    "        compute_resource = AmlCompute(\n",
    "            name=cluster_name,\n",
    "            type=\"amlcompute\",\n",
    "            size=size,\n",
    "            min_instances=min_instances,\n",
    "            max_instances=max_instances,\n",
    "            idle_time_before_scale_down=idle_time_before_scale_down,\n",
    "            tier=tier,\n",
    "        )\n",
    "        # Create the compute resource and wait until the operation completes\n",
    "        compute_resource = ml_client.begin_create_or_update(compute_resource).result()\n",
    "    \n",
    "    print(f\"AMLCompute resource '{compute_resource.name}' is created with size '{compute_resource.size}'.\")\n",
    "    return compute_resource\n"
   ]
  },
  {
   "cell_type": "code",
   "execution_count": null,
   "id": "4197ba24",
   "metadata": {},
   "outputs": [
    {
     "name": "stdout",
     "output_type": "stream",
     "text": [
      "Creating a new GPU compute resource...\n",
      "AMLCompute resource 'training-gpu-cluster' is created with size 'STANDARD_D2_V3'.\n"
     ]
    },
    {
     "data": {
      "text/plain": [
       "AmlCompute({'type': 'amlcompute', 'created_on': None, 'provisioning_state': 'Succeeded', 'provisioning_errors': None, 'name': 'training-gpu-cluster', 'description': None, 'tags': None, 'properties': {}, 'print_as_yaml': False, 'id': '/subscriptions/7a95526c-4313-494a-9c1d-e75dc44978b5/resourceGroups/test_group/providers/Microsoft.MachineLearningServices/workspaces/machine_que_tal/computes/training-gpu-cluster', 'Resource__source_path': '', 'base_path': 'c:\\\\Users\\\\walte\\\\Documents\\\\Projects\\\\GitHub\\\\My_Organizations\\\\Computer-Vision-WSC\\\\yolo11-segmentation\\\\notebooks', 'creation_context': None, 'serialize': <msrest.serialization.Serializer object at 0x000001A6EA7DA170>, 'resource_id': None, 'location': 'eastus', 'size': 'STANDARD_D2_V3', 'min_instances': 0, 'max_instances': 4, 'idle_time_before_scale_down': 180.0, 'identity': None, 'ssh_public_access_enabled': True, 'ssh_settings': None, 'network_settings': <azure.ai.ml.entities._compute.compute.NetworkSettings object at 0x000001A6EA7D9AE0>, 'tier': 'dedicated', 'enable_node_public_ip': True, 'subnet': None})"
      ]
     },
     "metadata": {},
     "output_type": "display_data"
    }
   ],
   "source": [
    "create_compute_resource(ml_client, \n",
    "                        training_gpu_cluster,\n",
    "                        compute_name)"
   ]
  }
 ],
 "metadata": {
  "language_info": {
   "name": "python"
  }
 },
 "nbformat": 4,
 "nbformat_minor": 5
}
