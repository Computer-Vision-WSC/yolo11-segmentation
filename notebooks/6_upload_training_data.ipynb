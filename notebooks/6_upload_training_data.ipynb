{
 "cells": [
  {
   "cell_type": "code",
   "execution_count": null,
   "id": "4bda3a37",
   "metadata": {},
   "outputs": [],
   "source": [
    "import os\n",
    "import yaml\n",
    "\n",
    "from azure.identity import DefaultAzureCredential\n",
    "from azure.ai.ml import MLClient\n",
    "\n",
    "from azure.ai.ml.entities import Data\n",
    "from azure.ai.ml.constants import AssetTypes"
   ]
  },
  {
   "cell_type": "markdown",
   "id": "b942560a",
   "metadata": {},
   "source": [
    "## Define Variables"
   ]
  },
  {
   "cell_type": "code",
   "execution_count": 15,
   "id": "e6ad1081",
   "metadata": {},
   "outputs": [],
   "source": [
    "# Load configuration from the YAML file\n",
    "with open(\"../config.yaml\", \"r\") as file:\n",
    "    config = yaml.safe_load(file)"
   ]
  },
  {
   "cell_type": "code",
   "execution_count": 16,
   "id": "ad117b0b",
   "metadata": {},
   "outputs": [],
   "source": [
    "# location = config[\"azure\"][\"location\"]\n",
    "subscription_id = config[\"azure\"][\"subscription_id\"]\n",
    "resource_group_name = config[\"azure\"][\"resource_group_name\"]\n",
    "workspace_name = config[\"azure\"][\"workspace_name\"]\n",
    "\n",
    "data_asset_name = config[\"train\"][\"data_asset_name\"]\n",
    "version = config[\"train\"][\"version\"]\n",
    "description = config[\"train\"][\"description\"]"
   ]
  },
  {
   "cell_type": "markdown",
   "id": "92eb22d6",
   "metadata": {},
   "source": [
    "## Azure Authentication"
   ]
  },
  {
   "cell_type": "code",
   "execution_count": 17,
   "id": "490632d2",
   "metadata": {},
   "outputs": [],
   "source": [
    "# Initialize DefaultAzureCredential\n",
    "credential = DefaultAzureCredential()"
   ]
  },
  {
   "cell_type": "code",
   "execution_count": 18,
   "id": "b7b9900f",
   "metadata": {},
   "outputs": [
    {
     "name": "stderr",
     "output_type": "stream",
     "text": [
      "Overriding of current TracerProvider is not allowed\n",
      "Overriding of current LoggerProvider is not allowed\n",
      "Overriding of current MeterProvider is not allowed\n",
      "Attempting to instrument while already instrumented\n",
      "Attempting to instrument while already instrumented\n",
      "Attempting to instrument while already instrumented\n"
     ]
    }
   ],
   "source": [
    "ml_client = MLClient(credential, subscription_id, resource_group_name, workspace_name)"
   ]
  },
  {
   "cell_type": "code",
   "execution_count": 19,
   "id": "bc19fb57",
   "metadata": {},
   "outputs": [],
   "source": [
    "def create_data_asset(ml_client, asset_name, version, description, asset_path, asset_type=AssetTypes.URI_FOLDER):\n",
    "    \"\"\"\n",
    "    Creates or retrieves a data asset in Azure ML using a local folder path.\n",
    "    \n",
    "    This function attempts to get the data asset with the specified name and version.\n",
    "    If found, it prints a message and returns the asset. Otherwise, it creates a new \n",
    "    data asset by registering the local folder (asset_path) with the provided description, \n",
    "    and returns the newly created asset.\n",
    "\n",
    "    Parameters:\n",
    "        ml_client (MLClient): An instance of the Azure ML client.\n",
    "        asset_name (str): The name of the data asset.\n",
    "        version (str): The version identifier for the data asset.\n",
    "        description (str): A short description of the asset.\n",
    "        asset_path (str): The local path to the data folder to register.\n",
    "        asset_type (AssetTypes, optional): The type of asset. \n",
    "                                             Use AssetTypes.URI_FOLDER for a folder (default) \n",
    "                                             or AssetTypes.URI_FILE for a single file.\n",
    "\n",
    "    Returns:\n",
    "        Data: The registered data asset object.\n",
    "    \"\"\"\n",
    "    # Create the data asset object\n",
    "    my_data = Data(\n",
    "        name=asset_name,\n",
    "        version=version,\n",
    "        description=description,\n",
    "        path=asset_path,\n",
    "        type=asset_type\n",
    "    )\n",
    "\n",
    "    try:\n",
    "        # Try to retrieve the existing data asset\n",
    "        data_asset = ml_client.data.get(name=asset_name, version=version)\n",
    "        print(f\"Data asset already exists. Name: {asset_name}, version: {version}\")\n",
    "        return data_asset\n",
    "    except Exception as e:\n",
    "        # If retrieval fails, create (or update) the data asset in the workspace\n",
    "        ml_client.data.create_or_update(my_data)\n",
    "        print(f\"Data asset created. Name: {asset_name}, version: {version}\")\n",
    "        # Retrieve and return the newly created asset\n",
    "        return ml_client.data.get(name=asset_name, version=version)"
   ]
  },
  {
   "cell_type": "code",
   "execution_count": null,
   "id": "548b4bb8",
   "metadata": {},
   "outputs": [],
   "source": [
    "credit_card_asset = create_data_asset(ml_client, data_asset_name, version,\n",
    "                                      description, asset_path=\"../data/raw\")"
   ]
  }
 ],
 "metadata": {
  "kernelspec": {
   "display_name": "yolo11-segmentation",
   "language": "python",
   "name": "python3"
  },
  "language_info": {
   "codemirror_mode": {
    "name": "ipython",
    "version": 3
   },
   "file_extension": ".py",
   "mimetype": "text/x-python",
   "name": "python",
   "nbconvert_exporter": "python",
   "pygments_lexer": "ipython3",
   "version": "3.10.16"
  }
 },
 "nbformat": 4,
 "nbformat_minor": 5
}
