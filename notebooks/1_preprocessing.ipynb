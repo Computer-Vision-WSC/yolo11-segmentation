{
 "cells": [
  {
   "cell_type": "markdown",
   "metadata": {},
   "source": [
    "## 1. Pre-processing  \n",
    "This section prepares the raw dataset for training a **YOLOv11**.\n",
    "\n",
    "* **Libraries** – We import `os`, `yaml`, and Ultralytics’ helper utilities.  \n",
    "* **Dataset split** – `autosplit` shuffles and partitions all annotated images into  \n",
    "  80 % training, 10 % validation, and 10 % test sets (only images with labels are kept).  \n",
    "* **`data.yaml` creation** – We write a minimal `data.yaml` that tells Ultralytics  \n",
    "  where the images live, which text files list each split, and what class names exist.  \n",
    "  This file is the single source of truth YOLOv8 needs to locate data at train time.\n"
   ]
  },
  {
   "cell_type": "code",
   "execution_count": 3,
   "metadata": {},
   "outputs": [],
   "source": [
    "import os\n",
    "import yaml\n",
    "from ultralytics.data.utils import autosplit"
   ]
  },
  {
   "cell_type": "code",
   "execution_count": 4,
   "metadata": {},
   "outputs": [],
   "source": [
    "images_path = \"../data/raw/images\""
   ]
  },
  {
   "cell_type": "markdown",
   "metadata": {},
   "source": [
    "## Images and Annotations Split\n",
    "\n",
    "Randomly divide the dataset into **80 % train**, **10 % validation**, and **10 % test**.\n",
    "\n",
    "`annotated_only=True` ensures that only images with matching label files are kept in the split.\n"
   ]
  },
  {
   "cell_type": "code",
   "execution_count": null,
   "metadata": {},
   "outputs": [],
   "source": [
    "autosplit(path = images_path,\n",
    "          weights = (0.8, 0.1, 0.1),\n",
    "          annotated_only=True)"
   ]
  },
  {
   "cell_type": "markdown",
   "metadata": {},
   "source": [
    "## `data.yaml` Generation\n",
    "Ultralytics expects a YAML configuration with:\n",
    "\n",
    "* **path** – root directory of the dataset  \n",
    "* **train / val / test** – the `.txt` file listings produced by `autosplit`  \n",
    "* **names** – a dictionary mapping numeric class IDs to class names  \n"
   ]
  },
  {
   "cell_type": "code",
   "execution_count": 7,
   "metadata": {},
   "outputs": [
    {
     "name": "stdout",
     "output_type": "stream",
     "text": [
      "data.yaml generated successfully\n"
     ]
    }
   ],
   "source": [
    "data_config = {\n",
    "    \"names\": {0: \"panel\"},\n",
    "    \"path\": \"/data/raw\",\n",
    "    \"train\": \"autosplit_train.txt\",\n",
    "    \"val\": \"autosplit_val.txt\",\n",
    "    \"test\": \"autosplit_test.txt\"\n",
    "}\n",
    "\n",
    "with open(f\"{os.path.dirname(images_path)}/data.yaml\", \"w\") as f:\n",
    "    yaml.dump(data_config, f, sort_keys=False)\n",
    "\n",
    "print(\"data.yaml generated successfully\")"
   ]
  }
 ],
 "metadata": {
  "kernelspec": {
   "display_name": "yolo11-segmentation",
   "language": "python",
   "name": "python3"
  },
  "language_info": {
   "codemirror_mode": {
    "name": "ipython",
    "version": 3
   },
   "file_extension": ".py",
   "mimetype": "text/x-python",
   "name": "python",
   "nbconvert_exporter": "python",
   "pygments_lexer": "ipython3",
   "version": "3.10.16"
  }
 },
 "nbformat": 4,
 "nbformat_minor": 2
}
