{
 "cells": [
  {
   "cell_type": "markdown",
   "id": "54904406",
   "metadata": {},
   "source": [
    "# 6.- Azure ML Environment Definition"
   ]
  },
  {
   "cell_type": "code",
   "execution_count": 22,
   "id": "a2db1284",
   "metadata": {},
   "outputs": [],
   "source": [
    "import yaml\n",
    "\n",
    "from azure.identity import DefaultAzureCredential\n",
    "\n",
    "from azure.ai.ml import MLClient\n",
    "from azure.ai.ml.entities import Environment, BuildContext"
   ]
  },
  {
   "cell_type": "markdown",
   "id": "6c308dc0",
   "metadata": {},
   "source": [
    "## Define Variables"
   ]
  },
  {
   "cell_type": "code",
   "execution_count": 23,
   "id": "a46c1c2e",
   "metadata": {},
   "outputs": [],
   "source": [
    "# Load configuration from the YAML file\n",
    "with open(\"../config.yaml\", \"r\") as file:\n",
    "    config = yaml.safe_load(file)"
   ]
  },
  {
   "cell_type": "code",
   "execution_count": 24,
   "id": "282b594a",
   "metadata": {},
   "outputs": [],
   "source": [
    "subscription_id = config[\"azure\"][\"subscription_id\"]\n",
    "resource_group_name = config[\"azure\"][\"resource_group_name\"]\n",
    "workspace_name = config[\"azure\"][\"workspace_name\"]\n",
    "\n",
    "environment_name = config[\"azure\"][\"environment_name\"]"
   ]
  },
  {
   "cell_type": "markdown",
   "id": "9c1f9357",
   "metadata": {},
   "source": [
    "## Azure Authentication"
   ]
  },
  {
   "cell_type": "code",
   "execution_count": 25,
   "id": "db671aa1",
   "metadata": {},
   "outputs": [],
   "source": [
    "# Initialize DefaultAzureCredential\n",
    "credential = DefaultAzureCredential()"
   ]
  },
  {
   "cell_type": "code",
   "execution_count": 26,
   "id": "88a84bf6",
   "metadata": {},
   "outputs": [
    {
     "name": "stderr",
     "output_type": "stream",
     "text": [
      "Overriding of current TracerProvider is not allowed\n",
      "Overriding of current LoggerProvider is not allowed\n",
      "Overriding of current MeterProvider is not allowed\n",
      "Attempting to instrument while already instrumented\n",
      "Attempting to instrument while already instrumented\n",
      "Attempting to instrument while already instrumented\n"
     ]
    }
   ],
   "source": [
    "# Update Azure ML Client\n",
    "ml_client = MLClient(credential, subscription_id, resource_group_name, workspace_name)"
   ]
  },
  {
   "cell_type": "markdown",
   "id": "7e67f8c1",
   "metadata": {},
   "source": [
    "## Environment and Context"
   ]
  },
  {
   "cell_type": "code",
   "execution_count": 27,
   "id": "77b79c28",
   "metadata": {},
   "outputs": [],
   "source": [
    "def create_and_verify_environment(ml_client, environment_name, docker_file_path):\n",
    "    \"\"\"\n",
    "    Creates a new Azure ML environment from a Docker context if it does not already exist.\n",
    "\n",
    "    This function first checks if an environment with the specified name and label \"latest\" exists.\n",
    "    If it does, it prints a message and returns without creating a new environment.\n",
    "    Otherwise, it builds a new environment using the provided Docker context.\n",
    "\n",
    "    Parameters:\n",
    "        ml_client (MLClient): The Azure ML client used to manage environments.\n",
    "        environment_name (str): The name of the environment.\n",
    "        docker_file_path (str): The path to the Docker context directory containing the Dockerfile.\n",
    "            This should be the directory containing the Dockerfile, not the Dockerfile itself.\n",
    "\n",
    "    Returns:\n",
    "        None\n",
    "    \"\"\"\n",
    "    try:\n",
    "        existing_environment = ml_client.environments.get(\n",
    "            name=environment_name,\n",
    "            label=\"latest\"\n",
    "        )\n",
    "        print(f\"Environment '{environment_name}' already exists. No need to recreate.\")\n",
    "        return\n",
    "    except Exception as e:\n",
    "        print(f\"Environment '{environment_name}' not found. Creating a new one.\")\n",
    "\n",
    "    build_context = BuildContext(\n",
    "        path=docker_file_path\n",
    "    )\n",
    "\n",
    "    env_docker_context = Environment(\n",
    "        build=build_context,\n",
    "        name=environment_name,\n",
    "        description=\"Environment created from a Docker context.\",\n",
    "        tags={\n",
    "            \"project\": \"YOLO 11\",}\n",
    "        )\n",
    "\n",
    "    try:\n",
    "        created_env = ml_client.environments.create_or_update(env_docker_context)\n",
    "        print(f\"Environment '{created_env.name}' created.\")\n",
    "    except Exception as e:\n",
    "        print(f\"Failed to create or update environment: {e}\")\n"
   ]
  },
  {
   "cell_type": "code",
   "execution_count": null,
   "id": "ea75f846",
   "metadata": {},
   "outputs": [],
   "source": [
    "docker_file_path = \"../docker\"\n",
    "create_and_verify_environment(ml_client, environment_name, docker_file_path)"
   ]
  }
 ],
 "metadata": {
  "kernelspec": {
   "display_name": "yolo11-segmentation",
   "language": "python",
   "name": "python3"
  },
  "language_info": {
   "codemirror_mode": {
    "name": "ipython",
    "version": 3
   },
   "file_extension": ".py",
   "mimetype": "text/x-python",
   "name": "python",
   "nbconvert_exporter": "python",
   "pygments_lexer": "ipython3",
   "version": "3.10.16"
  }
 },
 "nbformat": 4,
 "nbformat_minor": 5
}
