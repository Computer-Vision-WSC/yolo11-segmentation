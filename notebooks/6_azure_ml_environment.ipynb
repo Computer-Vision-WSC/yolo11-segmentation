{
 "cells": [
  {
   "cell_type": "markdown",
   "id": "54904406",
   "metadata": {},
   "source": [
    "# 6. Defining a custom Azure ML Environment  \n",
    "\n",
    "An **Environment** in Azure ML captures the exact runtime (OS layer, Python packages, system libraries) that your training code needs.  \n",
    "Instead of starting from a pre-built base image, we point Azure ML to a **local Docker context** (`../docker/`) so it can:\n",
    "\n",
    "1. Build the Dockerfile into an image inside your Azure Container Registry.  \n",
    "2. Register that image as a *versioned* Environment object (`<environment_name>:<version>`).  \n",
    "3. Reuse the same hash-locked image across jobs, ensuring reproducible results.\n",
    "\n",
    "The helper function below is idempotent: if an environment labelled **latest** already exists, it skips the build; otherwise, it kicks off the build & push.\n"
   ]
  },
  {
   "cell_type": "code",
   "execution_count": 1,
   "id": "a2db1284",
   "metadata": {},
   "outputs": [],
   "source": [
    "import yaml\n",
    "\n",
    "from azure.identity import DefaultAzureCredential\n",
    "\n",
    "from azure.ai.ml import MLClient\n",
    "from azure.ai.ml.entities import Environment, BuildContext"
   ]
  },
  {
   "cell_type": "markdown",
   "id": "6c308dc0",
   "metadata": {},
   "source": [
    "## 1) Load settings from config.yaml"
   ]
  },
  {
   "cell_type": "code",
   "execution_count": 2,
   "id": "a46c1c2e",
   "metadata": {},
   "outputs": [],
   "source": [
    "# Load configuration from the YAML file\n",
    "with open(\"../config.yaml\", \"r\") as file:\n",
    "    config = yaml.safe_load(file)"
   ]
  },
  {
   "cell_type": "code",
   "execution_count": 3,
   "id": "282b594a",
   "metadata": {},
   "outputs": [],
   "source": [
    "subscription_id = config[\"azure\"][\"subscription_id\"]\n",
    "resource_group_name = config[\"azure\"][\"resource_group_name\"]\n",
    "workspace_name = config[\"azure\"][\"workspace_name\"]\n",
    "\n",
    "environment_name = config[\"azure\"][\"environment_name\"]"
   ]
  },
  {
   "cell_type": "markdown",
   "id": "9c1f9357",
   "metadata": {},
   "source": [
    "## 2) Authenticate and connect to the workspace"
   ]
  },
  {
   "cell_type": "code",
   "execution_count": 4,
   "id": "db671aa1",
   "metadata": {},
   "outputs": [],
   "source": [
    "# Initialize DefaultAzureCredential\n",
    "credential = DefaultAzureCredential()"
   ]
  },
  {
   "cell_type": "code",
   "execution_count": 5,
   "id": "88a84bf6",
   "metadata": {},
   "outputs": [],
   "source": [
    "# Update Azure ML Client\n",
    "ml_client = MLClient(credential, subscription_id, resource_group_name, workspace_name)"
   ]
  },
  {
   "cell_type": "markdown",
   "id": "7e67f8c1",
   "metadata": {},
   "source": [
    "## 3) Create or verify Environment"
   ]
  },
  {
   "cell_type": "code",
   "execution_count": 6,
   "id": "77b79c28",
   "metadata": {},
   "outputs": [],
   "source": [
    "def create_and_verify_environment(ml_client, environment_name, docker_file_path):\n",
    "    \"\"\"\n",
    "    Creates a new Azure ML environment from a Docker context if it does not already exist.\n",
    "\n",
    "    This function first checks if an environment with the specified name and label \"latest\" exists.\n",
    "    If it does, it prints a message and returns without creating a new environment.\n",
    "    Otherwise, it builds a new environment using the provided Docker context.\n",
    "\n",
    "    Parameters:\n",
    "        ml_client (MLClient): The Azure ML client used to manage environments.\n",
    "        environment_name (str): The name of the environment.\n",
    "        docker_file_path (str): The path to the Docker context directory containing the Dockerfile.\n",
    "            This should be the directory containing the Dockerfile, not the Dockerfile itself.\n",
    "\n",
    "    Returns:\n",
    "        None\n",
    "    \"\"\"\n",
    "    try:\n",
    "        existing_environment = ml_client.environments.get(\n",
    "            name=environment_name,\n",
    "            label=\"latest\"\n",
    "        )\n",
    "        print(f\"Environment '{environment_name}' already exists. No need to recreate.\")\n",
    "        return\n",
    "    except Exception as e:\n",
    "        print(f\"Environment '{environment_name}' not found. Creating a new one.\")\n",
    "\n",
    "    build_context = BuildContext(\n",
    "        path=docker_file_path\n",
    "    )\n",
    "\n",
    "    env_docker_context = Environment(\n",
    "        build=build_context,\n",
    "        name=environment_name,\n",
    "        description=\"Environment created from a Docker context.\",\n",
    "        tags={\n",
    "            \"project\": \"YOLO 11\",}\n",
    "        )\n",
    "\n",
    "    try:\n",
    "        created_env = ml_client.environments.create_or_update(env_docker_context)\n",
    "        print(f\"Environment '{created_env.name}' created.\")\n",
    "    except Exception as e:\n",
    "        print(f\"Failed to create or update environment: {e}\")\n"
   ]
  },
  {
   "cell_type": "code",
   "execution_count": null,
   "id": "ea75f846",
   "metadata": {},
   "outputs": [],
   "source": [
    "docker_file_path = \"../docker\"\n",
    "create_and_verify_environment(ml_client, environment_name, docker_file_path)"
   ]
  },
  {
   "cell_type": "markdown",
   "id": "bdb80883",
   "metadata": {},
   "source": [
    "### Tips & next steps\n",
    "\n",
    "* **Updating the image** – Any change to the Dockerfile automatically triggers a new environment *version*.  \n",
    "  Keep the same `environment_name` and Azure ML will append an incremental version id (`1`, `2`, …).  \n",
    "* **Referencing in jobs** – In your training pipeline YAML or SDK call, reference the environment as  \n",
    "  `azureml:${{AZURE_ML_ENVIRONMENT}}@latest` or pin a specific version for full reproducibility.  \n",
    "* **Build time** – The first build pushes the image layers to your workspace’s ACR; subsequent builds are much faster due to layer caching.  \n",
    "* **Docker context size** – Avoid placing large datasets in `../docker/`; only the files needed to build the image should live there.\n"
   ]
  }
 ],
 "metadata": {
  "kernelspec": {
   "display_name": "yolo11-segmentation",
   "language": "python",
   "name": "python3"
  },
  "language_info": {
   "codemirror_mode": {
    "name": "ipython",
    "version": 3
   },
   "file_extension": ".py",
   "mimetype": "text/x-python",
   "name": "python",
   "nbconvert_exporter": "python",
   "pygments_lexer": "ipython3",
   "version": "3.10.16"
  }
 },
 "nbformat": 4,
 "nbformat_minor": 5
}
