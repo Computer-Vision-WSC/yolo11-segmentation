{
 "cells": [
  {
   "cell_type": "markdown",
   "id": "8e90359e",
   "metadata": {},
   "source": [
    "# 9.- Azure ML Deploy Training"
   ]
  },
  {
   "cell_type": "code",
   "execution_count": 31,
   "id": "6e5a2827",
   "metadata": {},
   "outputs": [],
   "source": [
    "import yaml\n",
    "\n",
    "from azure.identity import DefaultAzureCredential\n",
    "from azure.ai.ml import MLClient\n",
    "\n",
    "from azure.ai.ml import Input, Output\n",
    "from azure.ai.ml import command"
   ]
  },
  {
   "cell_type": "code",
   "execution_count": 32,
   "id": "1204c638",
   "metadata": {},
   "outputs": [],
   "source": [
    "# Load configuration from the YAML file\n",
    "with open(\"../config.yaml\", \"r\") as file:\n",
    "    config = yaml.safe_load(file)"
   ]
  },
  {
   "cell_type": "code",
   "execution_count": 33,
   "id": "49f13fe3",
   "metadata": {},
   "outputs": [],
   "source": [
    "subscription_id = config[\"azure\"][\"subscription_id\"]\n",
    "resource_group_name = config[\"azure\"][\"resource_group_name\"]\n",
    "workspace_name = config[\"azure\"][\"workspace_name\"]\n",
    "\n",
    "data_asset_path = config[\"train\"][\"data_asset_path\"]"
   ]
  },
  {
   "cell_type": "code",
   "execution_count": 34,
   "id": "b990299c",
   "metadata": {},
   "outputs": [
    {
     "name": "stderr",
     "output_type": "stream",
     "text": [
      "Overriding of current TracerProvider is not allowed\n",
      "Overriding of current LoggerProvider is not allowed\n",
      "Overriding of current MeterProvider is not allowed\n",
      "Attempting to instrument while already instrumented\n",
      "Attempting to instrument while already instrumented\n",
      "Attempting to instrument while already instrumented\n"
     ]
    }
   ],
   "source": [
    "ml_client = MLClient(\n",
    "    DefaultAzureCredential(),\n",
    "    subscription_id,\n",
    "    resource_group_name,\n",
    "    workspace_name\n",
    ")"
   ]
  },
  {
   "cell_type": "code",
   "execution_count": 35,
   "id": "c354adcb",
   "metadata": {},
   "outputs": [],
   "source": [
    "data_input = Input(\n",
    "    path=config[\"train\"][\"data_asset_path\"],\n",
    "    type=\"uri_folder\"\n",
    ")\n",
    "\n",
    "model_input = Input(\n",
    "    path=\"../train/pretrained_models/yolo11n-seg.pt\",\n",
    "    type=\"uri_file\"\n",
    ")"
   ]
  },
  {
   "cell_type": "code",
   "execution_count": 36,
   "id": "efd5854e",
   "metadata": {},
   "outputs": [],
   "source": [
    "output_path = \"azureml://datastores/workspaceblobstore/paths/train_outputs/yolo_run_001\"\n",
    "\n",
    "output = Output(\n",
    "    type=\"uri_folder\"\n",
    ")"
   ]
  },
  {
   "cell_type": "code",
   "execution_count": 37,
   "id": "12492c98",
   "metadata": {},
   "outputs": [],
   "source": [
    "command_job = \"\"\"cp ${{ inputs.data }}/data.yaml /tmp/data.yaml && \\\n",
    "sed -i \"s|path:.*$|path: ${{ inputs.data }}|\" /tmp/data.yaml && \\\n",
    "python train.py\"\"\""
   ]
  },
  {
   "cell_type": "code",
   "execution_count": 38,
   "id": "58ea1f48",
   "metadata": {},
   "outputs": [],
   "source": [
    "job = command(\n",
    "    code=\"../src\",\n",
    "    command=\"python train.py\",\n",
    "    inputs={\n",
    "        \"data\": data_input,\n",
    "        \"model\": model_input,\n",
    "    },\n",
    "    outputs={\n",
    "        \"output_dir\": output\n",
    "    },\n",
    "    environment_variables={ \n",
    "        \"MODEL\": model_input.path,\n",
    "        \"EPOCHS\": \"20\",\n",
    "        \"BATCH\": \"4\",\n",
    "        \"OUTPUT\": output.path\n",
    "    },\n",
    "    environment=\"docker-context-example-walter@latest\",\n",
    "    compute=\"training-gpu-cluster\",\n",
    "    experiment_name=\"yolo11-segmentation-training\",\n",
    "    display_name=\"yolo11-segmentation-training\"\n",
    ")"
   ]
  },
  {
   "cell_type": "code",
   "execution_count": null,
   "id": "0db68782",
   "metadata": {},
   "outputs": [],
   "source": [
    "# Submit the job to Azure ML\n",
    "job = ml_client.jobs.create_or_update(job)"
   ]
  }
 ],
 "metadata": {
  "kernelspec": {
   "display_name": "yolo11-segmentation",
   "language": "python",
   "name": "python3"
  },
  "language_info": {
   "codemirror_mode": {
    "name": "ipython",
    "version": 3
   },
   "file_extension": ".py",
   "mimetype": "text/x-python",
   "name": "python",
   "nbconvert_exporter": "python",
   "pygments_lexer": "ipython3",
   "version": "3.10.16"
  }
 },
 "nbformat": 4,
 "nbformat_minor": 5
}
