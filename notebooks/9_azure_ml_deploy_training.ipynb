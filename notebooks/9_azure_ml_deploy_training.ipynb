{
 "cells": [
  {
   "cell_type": "markdown",
   "id": "8e90359e",
   "metadata": {},
   "source": [
    "# 9.- Azure ML Deploy Training"
   ]
  },
  {
   "cell_type": "code",
   "execution_count": 2,
   "id": "577fcc74",
   "metadata": {},
   "outputs": [],
   "source": [
    "import yaml\n",
    "\n",
    "from azure.identity import DefaultAzureCredential\n",
    "from azure.ai.ml import MLClient\n",
    "\n",
    "from azure.ai.ml import Input, Output\n",
    "from azure.ai.ml import command"
   ]
  },
  {
   "cell_type": "markdown",
   "id": "b25b1ab3",
   "metadata": {},
   "source": [
    "## Define Variables"
   ]
  },
  {
   "cell_type": "code",
   "execution_count": 3,
   "id": "e29eb0fc",
   "metadata": {},
   "outputs": [],
   "source": [
    "# Load configuration from the YAML file\n",
    "with open(\"../config.yaml\", \"r\") as file:\n",
    "    config = yaml.safe_load(file)"
   ]
  },
  {
   "cell_type": "code",
   "execution_count": 4,
   "id": "401d3636",
   "metadata": {},
   "outputs": [],
   "source": [
    "subscription_id = config[\"azure\"][\"subscription_id\"]\n",
    "resource_group_name = config[\"azure\"][\"resource_group_name\"]\n",
    "workspace_name = config[\"azure\"][\"workspace_name\"]\n",
    "\n",
    "data_asset_path = config[\"train\"][\"data_asset_path\"]"
   ]
  },
  {
   "cell_type": "markdown",
   "id": "4aea10e0",
   "metadata": {},
   "source": [
    "## Azure Authentication"
   ]
  },
  {
   "cell_type": "code",
   "execution_count": 5,
   "id": "a5dd687a",
   "metadata": {},
   "outputs": [],
   "source": [
    "# Initialize DefaultAzureCredential\n",
    "credential = DefaultAzureCredential()"
   ]
  },
  {
   "cell_type": "code",
   "execution_count": 6,
   "id": "3c19e4b7",
   "metadata": {},
   "outputs": [],
   "source": [
    "ml_client = MLClient(credential, subscription_id, resource_group_name, workspace_name)"
   ]
  },
  {
   "cell_type": "code",
   "execution_count": 17,
   "id": "84a0f1c1",
   "metadata": {},
   "outputs": [],
   "source": [
    "train_inputs = {\n",
    "    \"data\": Input(type=\"uri_folder\", path=data_asset_path),\n",
    "    \"model\": Input(type=\"uri_file\", path=\"../train/pretrained_models/yolo11n-seg.pt\"),\n",
    "    \"epochs\": 2,\n",
    "    \"batch\": 2,\n",
    "    \"exist_ok\": True,\n",
    "    \"device\": \"cpu\"\n",
    "    }"
   ]
  },
  {
   "cell_type": "code",
   "execution_count": 18,
   "id": "247f10a4",
   "metadata": {},
   "outputs": [],
   "source": [
    "train_outputs = {\n",
    "    \"output_data\": Output(type=\"uri_folder\", path=data_asset_path)\n",
    "    }"
   ]
  },
  {
   "cell_type": "code",
   "execution_count": 19,
   "id": "7957fddb",
   "metadata": {},
   "outputs": [],
   "source": [
    "command_job = \"\"\"cp ${{ inputs.data }}/data.yaml /tmp/data.yaml && \\\n",
    "sed -i \"s|path:.*$|path: ${{ inputs.data }}|\" /tmp/data.yaml && \\\n",
    "yolo segment train \\\n",
    "data= /tmp/data.yaml \\\n",
    "model= ${{inputs.model}} \\\n",
    "epochs= ${{inputs.epochs}} \\\n",
    "batch= ${{inputs.batch}} \\\n",
    "exist_ok= ${{inputs.exist_ok}} \\\n",
    "device= ${{inputs.device}} \\\n",
    "project= ${{outputs.output_data}} \\\n",
    "name= experiment\"\"\""
   ]
  },
  {
   "cell_type": "code",
   "execution_count": 20,
   "id": "2bfd30c6",
   "metadata": {},
   "outputs": [],
   "source": [
    "job = command(\n",
    "    command = command_job,\n",
    "    inputs= train_inputs,\n",
    "    outputs= train_outputs,\n",
    "    environment=\"docker-context-example-walter@latest\",\n",
    "    compute=\"training-gpu-cluster\",\n",
    "    experiment_name=\"yolo11-segmentation-training\",\n",
    "    display_name=\"yolo11-segmentation-training\"\n",
    ")"
   ]
  },
  {
   "cell_type": "code",
   "execution_count": null,
   "id": "2968faf0",
   "metadata": {},
   "outputs": [],
   "source": [
    "# Submit the job to Azure ML\n",
    "job = ml_client.jobs.create_or_update(job)"
   ]
  }
 ],
 "metadata": {
  "kernelspec": {
   "display_name": "yolo11-segmentation",
   "language": "python",
   "name": "python3"
  },
  "language_info": {
   "codemirror_mode": {
    "name": "ipython",
    "version": 3
   },
   "file_extension": ".py",
   "mimetype": "text/x-python",
   "name": "python",
   "nbconvert_exporter": "python",
   "pygments_lexer": "ipython3",
   "version": "3.10.16"
  }
 },
 "nbformat": 4,
 "nbformat_minor": 5
}
