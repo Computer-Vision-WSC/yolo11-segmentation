{
 "cells": [
  {
   "cell_type": "markdown",
   "id": "8e90359e",
   "metadata": {},
   "source": [
    "# 9. Launching the full training run on Azure ML  \n",
    "\n",
    "This cell submits a **command job** that trains the YOLO 11 segmentation model on the dataset we registered earlier.\n",
    "\n",
    "**Key pieces**\n",
    "\n",
    "| Element | Purpose | Value in this demo |\n",
    "|---------|---------|--------------------|\n",
    "| **Environment** | Re-uses the Docker image we built in step 6. | `${environment_name}@latest` |\n",
    "| **Compute** | GPU (or CPU) cluster created in step 7. | `${training_gpu_cluster}` |\n",
    "| **Inputs** | 1) Data asset (`uri_folder`)  2) Pre-trained weight file (`uri_file`). | From `config.yaml` |\n",
    "| **Command string** | Copies & patches `data.yaml`, then calls `train.py`. | See below |\n",
    "| **Outputs** | A folder that will capture checkpoints, logs, etc., and is uploaded back to the workspace datastore. |\n",
    "\n",
    "> **How the command works**  \n",
    "> 1. `cp`: copy the dataset’s `data.yaml` into a tmp dir inside the container.  \n",
    "> 2. `sed`: replace the `path:` line so Ultralytics knows the *remote* location of the images.  \n",
    "> 3. `python train.py`: your custom training script in `../src/`.\n",
    "\n",
    "Feel free to bump `epochs`, `batch`, or pass extra flags such as `--imgsz 640` once the pipeline is working.\n"
   ]
  },
  {
   "cell_type": "code",
   "execution_count": 1,
   "id": "6e5a2827",
   "metadata": {},
   "outputs": [],
   "source": [
    "import yaml\n",
    "\n",
    "from azure.identity import DefaultAzureCredential\n",
    "from azure.ai.ml import MLClient\n",
    "\n",
    "from azure.ai.ml import Input, Output\n",
    "from azure.ai.ml import command"
   ]
  },
  {
   "cell_type": "markdown",
   "id": "b4b14088",
   "metadata": {},
   "source": [
    "## 1) Load settings"
   ]
  },
  {
   "cell_type": "code",
   "execution_count": 2,
   "id": "1204c638",
   "metadata": {},
   "outputs": [],
   "source": [
    "# Load configuration from the YAML file\n",
    "with open(\"../config.yaml\", \"r\") as file:\n",
    "    config = yaml.safe_load(file)"
   ]
  },
  {
   "cell_type": "code",
   "execution_count": 3,
   "id": "49f13fe3",
   "metadata": {},
   "outputs": [],
   "source": [
    "subscription_id = config[\"azure\"][\"subscription_id\"]\n",
    "resource_group_name = config[\"azure\"][\"resource_group_name\"]\n",
    "workspace_name = config[\"azure\"][\"workspace_name\"]\n",
    "\n",
    "environment_name = config[\"azure\"][\"environment_name\"]\n",
    "training_gpu_cluster = config[\"azure\"][\"training_gpu_cluster\"]\n",
    "\n",
    "data_asset_path = config[\"train\"][\"data_asset_path\"]"
   ]
  },
  {
   "cell_type": "markdown",
   "id": "e00bf8b3",
   "metadata": {},
   "source": [
    "## 2) Connect to workspace"
   ]
  },
  {
   "cell_type": "code",
   "execution_count": 4,
   "id": "b990299c",
   "metadata": {},
   "outputs": [],
   "source": [
    "ml_client = MLClient(\n",
    "    DefaultAzureCredential(),\n",
    "    subscription_id,\n",
    "    resource_group_name,\n",
    "    workspace_name\n",
    ")"
   ]
  },
  {
   "cell_type": "markdown",
   "id": "d6b76b60",
   "metadata": {},
   "source": [
    "## 3) Define inputs / outputs"
   ]
  },
  {
   "cell_type": "code",
   "execution_count": 5,
   "id": "c354adcb",
   "metadata": {},
   "outputs": [],
   "source": [
    "data_input = Input(\n",
    "    path=config[\"train\"][\"data_asset_path\"],\n",
    "    type=\"uri_folder\"\n",
    ")\n",
    "\n",
    "model_input = Input(\n",
    "    path=\"../train/pretrained_models/yolo11n-seg.pt\",\n",
    "    type=\"uri_file\"\n",
    ")"
   ]
  },
  {
   "cell_type": "code",
   "execution_count": 6,
   "id": "efd5854e",
   "metadata": {},
   "outputs": [],
   "source": [
    "output = Output(\n",
    "    type=\"uri_folder\",\n",
    "    mode=\"upload\"\n",
    ")"
   ]
  },
  {
   "cell_type": "markdown",
   "id": "f67c497f",
   "metadata": {},
   "source": [
    "## 4) Command to run inside the container"
   ]
  },
  {
   "cell_type": "code",
   "execution_count": 13,
   "id": "12492c98",
   "metadata": {},
   "outputs": [],
   "source": [
    "command_job = \"\"\"cp ${{inputs.data}}/data.yaml /tmp/data.yaml && \\\n",
    "sed -i \"s|path:.*$|path: ${{inputs.data}}|\" /tmp/data.yaml && \\\n",
    "python train.py \\\n",
    "--model ${{inputs.model}} \\\n",
    "--epochs 1 \\\n",
    "--batch 2 \\\n",
    "--output_dir ${{outputs.output_dir}}\"\"\""
   ]
  },
  {
   "cell_type": "code",
   "execution_count": 14,
   "id": "58ea1f48",
   "metadata": {},
   "outputs": [],
   "source": [
    "job = command(\n",
    "    code=\"../src\",  # carpeta donde está train.py\n",
    "    command=command_job,\n",
    "    inputs={\n",
    "        \"data\": data_input,\n",
    "        \"model\": model_input\n",
    "    },\n",
    "    outputs={\n",
    "        \"output_dir\": output\n",
    "    },\n",
    "    environment=f\"{environment_name}@latest\",\n",
    "    compute=training_gpu_cluster,\n",
    "    experiment_name=\"yolo11-segmentation-training\",\n",
    "    display_name=\"yolo11-segmentation-training\"\n",
    ")"
   ]
  },
  {
   "cell_type": "markdown",
   "id": "bafa119c",
   "metadata": {},
   "source": [
    "## 5) Submit the job"
   ]
  },
  {
   "cell_type": "code",
   "execution_count": null,
   "id": "0db68782",
   "metadata": {},
   "outputs": [],
   "source": [
    "# Submit the job to Azure ML\n",
    "job = ml_client.jobs.create_or_update(job)"
   ]
  },
  {
   "cell_type": "code",
   "execution_count": 22,
   "id": "b7dfe7cb",
   "metadata": {},
   "outputs": [],
   "source": [
    "config[\"train\"][\"job_name\"] = job['name']"
   ]
  },
  {
   "cell_type": "code",
   "execution_count": 23,
   "id": "beb05629",
   "metadata": {},
   "outputs": [],
   "source": [
    "with open(\"../config.yaml\", \"w\") as f:\n",
    "    yaml.safe_dump(config, f, default_flow_style=False)"
   ]
  }
 ],
 "metadata": {
  "kernelspec": {
   "display_name": "yolo11-segmentation",
   "language": "python",
   "name": "python3"
  },
  "language_info": {
   "codemirror_mode": {
    "name": "ipython",
    "version": 3
   },
   "file_extension": ".py",
   "mimetype": "text/x-python",
   "name": "python",
   "nbconvert_exporter": "python",
   "pygments_lexer": "ipython3",
   "version": "3.10.16"
  }
 },
 "nbformat": 4,
 "nbformat_minor": 5
}
