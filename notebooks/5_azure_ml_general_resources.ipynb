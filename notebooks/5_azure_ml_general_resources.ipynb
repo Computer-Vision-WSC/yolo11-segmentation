{
 "cells": [
  {
   "cell_type": "markdown",
   "id": "aaed54b8",
   "metadata": {},
   "source": [
    "# 5. Provisioning Azure ML resources  \n",
    "\n",
    "This section programmatically creates—or retrieves if they already exist—the **Azure infrastructure** needed for later training runs on the cloud:\n",
    "\n",
    "1. **Resource Group** – the logical container for every other Azure asset.  \n",
    "2. **Azure ML Workspace** – the control plane that tracks experiments, models, and datasets.  \n",
    "3. *(next notebook cells will add Compute clusters and custom Environments).*\n",
    "\n",
    "> **Prerequisites**  \n",
    "> * You are logged in via `az login` **or** have environment variables that `DefaultAzureCredential` can pick up (`AZURE_CLIENT_ID`, `AZURE_TENANT_ID`, `AZURE_CLIENT_SECRET`).  \n",
    "> * A `config.yaml` file at the project root containing subscription IDs and names (see next cell).  \n",
    "> * Your user/service-principal has *Contributor* rights on the subscription or resource group.\n"
   ]
  },
  {
   "cell_type": "markdown",
   "id": "36cd7ffd",
   "metadata": {},
   "source": [
    "### `config.yaml` expected keys\n",
    "\n",
    "e.g\n",
    "\n",
    "```yaml\n",
    "azure:\n",
    "  location: westeurope\n",
    "  subscription_id: \"00000000-1111-2222-3333-444444444444\"\n",
    "  resource_group_name: \"rg-yolo11-demo\"\n",
    "  workspace_name: \"mlw-yolo11-demo\"\n",
    "  environment_name: \"yolo11-env\"\n",
    "  training_gpu_cluster: \"gpu-cluster\"\n",
    "  compute_name: \"cpu-cluster\"\n"
   ]
  },
  {
   "cell_type": "code",
   "execution_count": 1,
   "id": "2bfcf14b",
   "metadata": {},
   "outputs": [],
   "source": [
    "import yaml\n",
    "\n",
    "from azure.identity import DefaultAzureCredential\n",
    "\n",
    "from azure.mgmt.resource import ResourceManagementClient\n",
    "\n",
    "from azure.core.exceptions import ResourceNotFoundError\n",
    "\n",
    "from azure.ai.ml import MLClient\n",
    "from azure.ai.ml.entities import Workspace\n",
    "from azure.ai.ml.entities import Environment, BuildContext\n",
    "\n",
    "from azure.ai.ml.entities import AmlCompute"
   ]
  },
  {
   "cell_type": "markdown",
   "id": "f4e48c08",
   "metadata": {},
   "source": [
    "## 1) Load project-specific settings from config.yaml"
   ]
  },
  {
   "cell_type": "code",
   "execution_count": 2,
   "id": "b607d8b1",
   "metadata": {},
   "outputs": [],
   "source": [
    "# Load configuration from the YAML file\n",
    "with open(\"../config.yaml\", \"r\") as file:\n",
    "    config = yaml.safe_load(file)"
   ]
  },
  {
   "cell_type": "code",
   "execution_count": 3,
   "id": "71b25be3",
   "metadata": {},
   "outputs": [],
   "source": [
    "location = config[\"azure\"][\"location\"]\n",
    "subscription_id = config[\"azure\"][\"subscription_id\"]\n",
    "resource_group_name = config[\"azure\"][\"resource_group_name\"]\n",
    "workspace_name = config[\"azure\"][\"workspace_name\"]\n",
    "environment_name = config[\"azure\"][\"environment_name\"]\n",
    "training_gpu_cluster = config[\"azure\"][\"training_gpu_cluster\"]\n",
    "compute_name = config[\"azure\"][\"compute_name\"]"
   ]
  },
  {
   "cell_type": "markdown",
   "id": "ba067770",
   "metadata": {},
   "source": [
    "## 2) Authenticate – uses Azure CLI, environment vars, MSI, etc."
   ]
  },
  {
   "cell_type": "code",
   "execution_count": 4,
   "id": "3069ba6e",
   "metadata": {},
   "outputs": [],
   "source": [
    "# Initialize DefaultAzureCredential\n",
    "credential = DefaultAzureCredential()"
   ]
  },
  {
   "cell_type": "markdown",
   "id": "d00854f2",
   "metadata": {},
   "source": [
    "## 3) RESOURCE GROUP"
   ]
  },
  {
   "cell_type": "code",
   "execution_count": 5,
   "id": "3aa39c01",
   "metadata": {},
   "outputs": [],
   "source": [
    "# Initialize the Resource Management client\n",
    "resource_client = ResourceManagementClient(credential, subscription_id)"
   ]
  },
  {
   "cell_type": "code",
   "execution_count": 6,
   "id": "977b05b7",
   "metadata": {},
   "outputs": [],
   "source": [
    "def create_resource_group(resource_client, resource_group_name, location):\n",
    "    \"\"\"\n",
    "    Creates a resource group in Azure if it does not already exist.\n",
    "\n",
    "    Parameters:\n",
    "        resource_client: The client instance used to interact with Azure resource groups.\n",
    "        resource_group_name (str): The name of the resource group.\n",
    "        location (str): The Azure region where the resource group should be created.\n",
    "\n",
    "    Returns:\n",
    "        The resource group object if successful, or None if an error occurs.\n",
    "    \"\"\"\n",
    "    try:\n",
    "        # Try to get the resource group\n",
    "        resource_group = resource_client.resource_groups.get(resource_group_name)\n",
    "        print(f\"Resource Group '{resource_group_name}' already exists in '{resource_group.location}'.\")\n",
    "    except ResourceNotFoundError:\n",
    "        # If the resource group does not exist, create it\n",
    "        resource_group_params = {\"location\": location}\n",
    "        resource_group = resource_client.resource_groups.create_or_update(\n",
    "            resource_group_name,\n",
    "            resource_group_params\n",
    "        )\n",
    "        print(f\"Resource Group '{resource_group_name}' created in '{resource_group.location}'.\")\n",
    "    except Exception as e:\n",
    "        # Handle other exceptions\n",
    "        print(f\"An error occurred: {e}\")\n",
    "        return None\n",
    "    return resource_group\n"
   ]
  },
  {
   "cell_type": "code",
   "execution_count": null,
   "id": "5f03ea18",
   "metadata": {},
   "outputs": [],
   "source": [
    "# Call the function to create the Resource Group\n",
    "resource_group = create_resource_group(resource_client, resource_group_name, location)"
   ]
  },
  {
   "cell_type": "markdown",
   "id": "06cb24b5",
   "metadata": {},
   "source": [
    "## 4) WORKSPACE"
   ]
  },
  {
   "cell_type": "code",
   "execution_count": 12,
   "id": "f0e4fa17",
   "metadata": {},
   "outputs": [
    {
     "name": "stderr",
     "output_type": "stream",
     "text": [
      "Overriding of current TracerProvider is not allowed\n",
      "Overriding of current LoggerProvider is not allowed\n",
      "Overriding of current MeterProvider is not allowed\n",
      "Attempting to instrument while already instrumented\n",
      "Attempting to instrument while already instrumented\n",
      "Attempting to instrument while already instrumented\n"
     ]
    }
   ],
   "source": [
    "ml_client = MLClient(credential, subscription_id, resource_group_name)"
   ]
  },
  {
   "cell_type": "code",
   "execution_count": 13,
   "id": "9e5511f5",
   "metadata": {},
   "outputs": [],
   "source": [
    "def create_workspace(ml_client, workspace_name, location):\n",
    "    \"\"\"\n",
    "    Creates or retrieves an Azure ML workspace.\n",
    "\n",
    "    This function first attempts to retrieve an existing workspace with the provided name.\n",
    "    If the workspace does not exist (raising a ResourceNotFoundError), it creates a new workspace\n",
    "    in the specified location. If any other exception occurs, it prints the error and returns None.\n",
    "\n",
    "    Parameters:\n",
    "        ml_client: MLClient\n",
    "            An instance of MLClient used to interact with Azure ML workspaces.\n",
    "        workspace_name (str):\n",
    "            The name of the workspace.\n",
    "        location (str):\n",
    "            The Azure region where the workspace should be located.\n",
    "\n",
    "    Returns:\n",
    "        The workspace object if successful, or None if an error occurs.\n",
    "    \"\"\"\n",
    "    try:\n",
    "        # Try to get the existing Workspace\n",
    "        workspace = ml_client.workspaces.get(workspace_name)\n",
    "        print(f\"Workspace '{workspace_name}' already exists in '{workspace.location}'.\")\n",
    "        return workspace\n",
    "    except ResourceNotFoundError:\n",
    "        # If the Workspace does not exist, create it asynchronously\n",
    "        workspace_poller = ml_client.workspaces.begin_create(\n",
    "            Workspace(\n",
    "                name=workspace_name,\n",
    "                location=location  # Use the 'location' variable\n",
    "            )\n",
    "        )\n",
    "        workspace = workspace_poller.result()  # Wait for the operation to complete\n",
    "        print(f\"Workspace '{workspace_name}' created in '{workspace.location}'.\")\n",
    "        return workspace\n",
    "    except Exception as e:\n",
    "        # Handle other exceptions\n",
    "        print(f\"An error occurred: {e}\")\n",
    "        return None\n",
    "\n"
   ]
  },
  {
   "cell_type": "code",
   "execution_count": null,
   "id": "de2f4c05",
   "metadata": {},
   "outputs": [],
   "source": [
    "workspace = create_workspace(ml_client, workspace_name, location)"
   ]
  },
  {
   "cell_type": "markdown",
   "id": "cbb68adc",
   "metadata": {},
   "source": [
    "### Next steps\n",
    "\n",
    "* The next notebook cell will register a **custom Docker Environment** and spin up Compute targets (`AmlCompute`).  \n",
    "* If you need to use a different subscription or tenant, just adjust `config.yaml` and rerun this cell.  \n",
    "* All objects are idempotent—running the cell twice will detect existing resources instead of failing."
   ]
  }
 ],
 "metadata": {
  "kernelspec": {
   "display_name": "yolo11-segmentation",
   "language": "python",
   "name": "python3"
  },
  "language_info": {
   "codemirror_mode": {
    "name": "ipython",
    "version": 3
   },
   "file_extension": ".py",
   "mimetype": "text/x-python",
   "name": "python",
   "nbconvert_exporter": "python",
   "pygments_lexer": "ipython3",
   "version": "3.10.16"
  }
 },
 "nbformat": 4,
 "nbformat_minor": 5
}
