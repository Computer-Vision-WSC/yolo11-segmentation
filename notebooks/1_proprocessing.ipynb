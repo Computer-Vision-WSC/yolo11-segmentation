{
 "cells": [
  {
   "cell_type": "markdown",
   "metadata": {},
   "source": [
    "# 1.- Preprocessing"
   ]
  },
  {
   "cell_type": "code",
   "execution_count": 2,
   "metadata": {},
   "outputs": [],
   "source": [
    "import os\n",
    "import yaml\n",
    "from ultralytics.data.utils import autosplit"
   ]
  },
  {
   "cell_type": "code",
   "execution_count": null,
   "metadata": {},
   "outputs": [],
   "source": [
    "images_path = \"../data/raw/images\""
   ]
  },
  {
   "cell_type": "markdown",
   "metadata": {},
   "source": [
    "## Images and Annotations Split"
   ]
  },
  {
   "cell_type": "code",
   "execution_count": null,
   "metadata": {},
   "outputs": [
    {
     "name": "stdout",
     "output_type": "stream",
     "text": [
      "Autosplitting images from ..\\data\\raw\\images, using *.txt labeled images only\n"
     ]
    },
    {
     "name": "stderr",
     "output_type": "stream",
     "text": [
      "100%|██████████| 12/12 [00:00<00:00, 291.40it/s]\n"
     ]
    }
   ],
   "source": [
    "autosplit(path = images_path,\n",
    "          weights = (0.8, 0.1, 0.1),\n",
    "          annotated_only=True)"
   ]
  },
  {
   "cell_type": "markdown",
   "metadata": {},
   "source": [
    "## data.yaml Generation"
   ]
  },
  {
   "cell_type": "code",
   "execution_count": 5,
   "metadata": {},
   "outputs": [
    {
     "name": "stdout",
     "output_type": "stream",
     "text": [
      "data.yaml generated successfully\n"
     ]
    }
   ],
   "source": [
    "data_config = {\n",
    "    \"names\": {0: \"panel\"},\n",
    "    \"path\": \"../../data/raw/images\",\n",
    "    \"train\": \"autosplit_train.txt\",\n",
    "    \"val\": \"autosplit_val.txt\",\n",
    "    \"test\": \"autosplit_test.txtt\"  # Si \"txtt\" es intencional, si no, cámbialo por \"txt\"\n",
    "}\n",
    "\n",
    "# Escribir el YAML en un archivo\n",
    "with open(f\"{os.path.dirname(images_path)}/data.yaml\", \"w\") as f:\n",
    "    yaml.dump(data_config, f, sort_keys=False)\n",
    "\n",
    "print(\"data.yaml generated successfully\")"
   ]
  }
 ],
 "metadata": {
  "kernelspec": {
   "display_name": "yolo11-segmentation",
   "language": "python",
   "name": "python3"
  },
  "language_info": {
   "codemirror_mode": {
    "name": "ipython",
    "version": 3
   },
   "file_extension": ".py",
   "mimetype": "text/x-python",
   "name": "python",
   "nbconvert_exporter": "python",
   "pygments_lexer": "ipython3",
   "version": "3.10.16"
  }
 },
 "nbformat": 4,
 "nbformat_minor": 2
}
