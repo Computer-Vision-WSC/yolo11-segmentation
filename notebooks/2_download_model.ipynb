{
 "cells": [
  {
   "cell_type": "markdown",
   "metadata": {},
   "source": [
    "# 2.- Download Model"
   ]
  },
  {
   "cell_type": "code",
   "execution_count": 1,
   "metadata": {},
   "outputs": [],
   "source": [
    "import os\n",
    "import requests"
   ]
  },
  {
   "cell_type": "code",
   "execution_count": 2,
   "metadata": {},
   "outputs": [],
   "source": [
    "def download_file(url, destination_folder, file_name):\n",
    "\n",
    "    os.makedirs(destination_folder, exist_ok=True)\n",
    "    path_to_write = f\"{destination_folder}/{file_name}\"\n",
    "    response = requests.get(url)\n",
    "\n",
    "    if response.status_code == 200:\n",
    "        with open(path_to_write, 'wb') as file:\n",
    "            file.write(response.content)\n",
    "        print(f\"File downloaded and saved to: {path_to_write}\")\n",
    "    else:\n",
    "        print(f\"Failed to download the file, status code: {response.status_code}\")\n"
   ]
  },
  {
   "cell_type": "code",
   "execution_count": 7,
   "metadata": {},
   "outputs": [],
   "source": [
    "chosen_model = 'yolo11x-seg.pt'\n",
    "download_tar = 'https://github.com/ultralytics/assets/releases/download/v8.3.0/' + chosen_model\n",
    "destination_folder = \"../train/pretrained_models\"\n",
    "model_file_name = f\"{chosen_model}\""
   ]
  },
  {
   "cell_type": "code",
   "execution_count": 8,
   "metadata": {},
   "outputs": [
    {
     "name": "stdout",
     "output_type": "stream",
     "text": [
      "File downloaded and saved to: ../train/pretrained_models/yolo11x-seg.pt\n"
     ]
    }
   ],
   "source": [
    "download_file(download_tar, destination_folder, model_file_name)"
   ]
  }
 ],
 "metadata": {
  "kernelspec": {
   "display_name": "yolo11-segmentation",
   "language": "python",
   "name": "python3"
  },
  "language_info": {
   "codemirror_mode": {
    "name": "ipython",
    "version": 3
   },
   "file_extension": ".py",
   "mimetype": "text/x-python",
   "name": "python",
   "nbconvert_exporter": "python",
   "pygments_lexer": "ipython3",
   "version": "3.10.16"
  }
 },
 "nbformat": 4,
 "nbformat_minor": 2
}
