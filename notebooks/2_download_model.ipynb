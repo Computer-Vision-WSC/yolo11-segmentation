{
 "cells": [
  {
   "cell_type": "markdown",
   "metadata": {},
   "source": [
    "# 2. Download a pre-trained model  \n",
    "\n",
    "Here we fetch the Ultralytics **YOLOv11 segmentation checkpoint** that we will fine-tune.\n",
    "\n",
    "* **`chosen_model`** – filename of the weight file (`.pt`).  \n",
    "* **Source URL** – built from the official GitHub Release (v8.3.0).  \n",
    "* **Destination** – saved to `../train/pretrained_models` to keep weights separate from raw data.  \n",
    "* **Downloader helper** – `download_file` creates the folder, streams the file, and checks the HTTP status.\n"
   ]
  },
  {
   "cell_type": "code",
   "execution_count": 1,
   "metadata": {},
   "outputs": [],
   "source": [
    "import os\n",
    "import requests"
   ]
  },
  {
   "cell_type": "code",
   "execution_count": 2,
   "metadata": {},
   "outputs": [],
   "source": [
    "def download_file(url: str, destination_folder: str, file_name: str) -> None:\n",
    "    \"\"\"\n",
    "    Download a file from a public URL and save it to a local folder.\n",
    "\n",
    "    Parameters\n",
    "    ----------\n",
    "    url : str\n",
    "        Direct download link to the file (HTTP/HTTPS).\n",
    "    destination_folder : str\n",
    "        Local directory in which to store the file.\n",
    "    file_name : str\n",
    "        Desired filename once saved (including extension).\n",
    "\n",
    "    Notes\n",
    "    -----\n",
    "    • The folder is created if it does not already exist.  \n",
    "    • You could add retry logic or hash verification for production workloads.\n",
    "    \"\"\"\n",
    "    os.makedirs(destination_folder, exist_ok=True)\n",
    "    target = f\"{destination_folder}/{file_name}\"\n",
    "\n",
    "    response = requests.get(url)\n",
    "    if response.status_code == 200:\n",
    "        with open(target, \"wb\") as f:\n",
    "            f.write(response.content)\n",
    "        print(f\"File downloaded and saved to: {target}\")\n",
    "    else:\n",
    "        print(f\"Failed to download the file, status code: {response.status_code}\")"
   ]
  },
  {
   "cell_type": "code",
   "execution_count": 3,
   "metadata": {},
   "outputs": [],
   "source": [
    "\n",
    "# Select the checkpoint you want.\n",
    "chosen_model = \"yolo11x-seg.pt\"\n",
    "\n",
    "# Build the full GitHub Release URL\n",
    "download_url = (\n",
    "    \"https://github.com/ultralytics/assets/releases/download/v8.3.0/\"\n",
    "    + chosen_model\n",
    ")\n",
    "\n",
    "# Local storage location\n",
    "destination_folder = \"../train/pretrained_models\""
   ]
  },
  {
   "cell_type": "code",
   "execution_count": null,
   "metadata": {},
   "outputs": [],
   "source": [
    "# Download!\n",
    "download_file(download_url, destination_folder, chosen_model)"
   ]
  }
 ],
 "metadata": {
  "kernelspec": {
   "display_name": "yolo11-segmentation",
   "language": "python",
   "name": "python3"
  },
  "language_info": {
   "codemirror_mode": {
    "name": "ipython",
    "version": 3
   },
   "file_extension": ".py",
   "mimetype": "text/x-python",
   "name": "python",
   "nbconvert_exporter": "python",
   "pygments_lexer": "ipython3",
   "version": "3.10.16"
  }
 },
 "nbformat": 4,
 "nbformat_minor": 2
}
